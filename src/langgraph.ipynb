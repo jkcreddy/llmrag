{
 "cells": [
  {
   "cell_type": "code",
   "execution_count": 1,
   "id": "c356f91f",
   "metadata": {},
   "outputs": [],
   "source": [
    "from langchain_google_genai import ChatGoogleGenerativeAI\n",
    "model = ChatGoogleGenerativeAI(model='gemini-1.5-flash')"
   ]
  },
  {
   "cell_type": "code",
   "execution_count": 6,
   "id": "6a1f22a3",
   "metadata": {},
   "outputs": [
    {
     "data": {
      "text/plain": [
       "384"
      ]
     },
     "execution_count": 6,
     "metadata": {},
     "output_type": "execute_result"
    }
   ],
   "source": [
    "from langchain_huggingface import HuggingFaceEmbeddings\n",
    "embeddings = HuggingFaceEmbeddings(model_name=\"BAAI/bge-small-en\")\n",
    "len(embeddings.embed_query(\"hi\"))"
   ]
  },
  {
   "cell_type": "code",
   "execution_count": 12,
   "id": "59dcad96",
   "metadata": {},
   "outputs": [],
   "source": [
    "from langchain_community.document_loaders import PyMuPDFLoader\n",
    "from langchain_community.vectorstores import Chroma\n",
    "from langchain.text_splitter import RecursiveCharacterTextSplitter\n",
    "\n",
    "file_path = \"../Data/the-power-of-discipline-PDFdrive.com.co.pdf\"\n",
    "loader = PyMuPDFLoader(file_path)\n"
   ]
  },
  {
   "cell_type": "code",
   "execution_count": 13,
   "id": "f84cfc52",
   "metadata": {},
   "outputs": [
    {
     "data": {
      "text/plain": [
       "'The Miracle of Compound Interest\\nAlbert Einstein said, “Compound interest is the most powerful force in the universe.”\\nIf, from the age of twenty-one until you are sixty-five, you were to save only $100 per month and\\ninvest that amount in a mutual fund or index fund that increased an average of 7 to 10 percent per year,\\nyou would be worth more than a million dollars. If you were to set up your payroll account so that\\n$100 were automatically deducted and invested for you, you could be sure of becoming one of the\\nwealthiest people in America.\\nThis means that if you are serious about achieving financial independence, the most important\\nsingle requirement is self-discipline combined with the ability to delay gratification. Your ability to\\npractice self-mastery, self-control, and self-denial throughout your life will not only enable you to\\nachieve all your financial goals, but it will also make you successful and happy in everything else you\\ndo.\\nIn the next chapter, we will talk about the key to making almost everything in your life work for\\nyou: the use of your time. We all start off in life with lots of time and little money. How you spend\\nyour time throughout your adult years largely determines the quality of your life.\\nAction Exercises:\\n \\n1. Make a decision today to take complete control of your financial life, get out of\\ndebt, and achieve financial independence.\\n2. Determine your net worth today. Add up all your assets, subtract all your debts and\\nliabilities, and calculate the exact number.\\n3. Set up a separate bank account and begin saving at least 1 percent of your income as\\nyou receive it every month or paycheck.\\n4. Make a list of all your debts and begin paying them off, starting with those carrying\\nthe highest interest rates.\\n5. Calculate the exact amount that you will need to be financially independent at the\\nend of your career and then set this as a goal.\\n6. Set specific financial accumulation goals for yourself for each month, quarter, and\\nyear for the rest of your life.\\n7. Practice frugality in spending by putting off and delaying every expenditure you\\npossibly can until you achieve your long-term financial goals.'"
      ]
     },
     "execution_count": 13,
     "metadata": {},
     "output_type": "execute_result"
    }
   ],
   "source": [
    "docs = loader.load()\n",
    "docs[200].page_content"
   ]
  },
  {
   "cell_type": "code",
   "execution_count": 14,
   "id": "d5bd95f5",
   "metadata": {},
   "outputs": [],
   "source": [
    "text_splitter=RecursiveCharacterTextSplitter(\n",
    "    chunk_size=1000,\n",
    "    chunk_overlap=50\n",
    ")"
   ]
  },
  {
   "cell_type": "code",
   "execution_count": 16,
   "id": "0074059d",
   "metadata": {},
   "outputs": [
    {
     "data": {
      "text/plain": [
       "547"
      ]
     },
     "execution_count": 16,
     "metadata": {},
     "output_type": "execute_result"
    }
   ],
   "source": [
    "new_docs=text_splitter.split_documents(documents=docs)\n",
    "len(new_docs)"
   ]
  },
  {
   "cell_type": "code",
   "execution_count": 18,
   "id": "8a51a044",
   "metadata": {},
   "outputs": [],
   "source": [
    "db=Chroma.from_documents(new_docs,embeddings)\n",
    "retriever = db.as_retriever(search_kwargs={\"k\": 4})"
   ]
  },
  {
   "cell_type": "code",
   "execution_count": 19,
   "id": "6ef91460",
   "metadata": {},
   "outputs": [
    {
     "data": {
      "text/plain": [
       "[Document(metadata={'total_pages': 308, 'creationdate': '2015-04-02T04:30:33+00:00', 'creator': 'calibre 1.43.0 [http://calibre-ebook.com]', 'page': 133, 'source': '../Data/the-power-of-discipline-PDFdrive.com.co.pdf', 'creationDate': \"D:20150402043033+00'00'\", 'producer': 'macOS Version 10.15.7 (Build 19H524) Quartz PDFContext, AppendMode 1.1', 'keywords': '', 'modDate': \"D:20210411094125Z00'00'\", 'file_path': '../Data/the-power-of-discipline-PDFdrive.com.co.pdf', 'title': 'No Excuses!: The Power of Self-Discipline', 'moddate': \"D:20210411094125Z00'00'\", 'author': 'Brian Tracy', 'trapped': '', 'subject': '', 'format': 'PDF 1.6'}, page_content='then tell yourself that “failure is not an option.”\\n6. Make a decision today that you will persist until you succeed, no matter what'),\n",
       " Document(metadata={'keywords': '', 'subject': '', 'creationDate': \"D:20150402043033+00'00'\", 'total_pages': 308, 'moddate': \"D:20210411094125Z00'00'\", 'creationdate': '2015-04-02T04:30:33+00:00', 'producer': 'macOS Version 10.15.7 (Build 19H524) Quartz PDFContext, AppendMode 1.1', 'creator': 'calibre 1.43.0 [http://calibre-ebook.com]', 'author': 'Brian Tracy', 'modDate': \"D:20210411094125Z00'00'\", 'page': 25, 'trapped': '', 'format': 'PDF 1.6', 'title': 'No Excuses!: The Power of Self-Discipline', 'file_path': '../Data/the-power-of-discipline-PDFdrive.com.co.pdf', 'source': '../Data/the-power-of-discipline-PDFdrive.com.co.pdf'}, page_content='Chapter 1\\nSelf-Discipline and Success\\n“The first and best victory is to conquer self.”\\n—PLATO\\nWhy do some people accomplish so much more in their personal and professional lives than others?\\nThis question has occupied some of the very best minds throughout human history. More than 2,300\\nyears ago, Aristotle wrote that the ultimate aim of human life is to be happy. He said that the great\\nquestion that each of us must answer is, “How shall we live in order to be happy?”\\nYour ability to ask and answer that question correctly for yourself—and then to follow where your\\nanswer leads you—will largely determine whether you achieve your own happiness, and how soon.\\nBegin with your own personal definition. How do you define success? If you could wave a magic\\nwand and make your life perfect in every way, what would it look like?'),\n",
       " Document(metadata={'total_pages': 308, 'modDate': \"D:20210411094125Z00'00'\", 'source': '../Data/the-power-of-discipline-PDFdrive.com.co.pdf', 'format': 'PDF 1.6', 'keywords': '', 'creationDate': \"D:20150402043033+00'00'\", 'trapped': '', 'file_path': '../Data/the-power-of-discipline-PDFdrive.com.co.pdf', 'page': 181, 'subject': '', 'creator': 'calibre 1.43.0 [http://calibre-ebook.com]', 'creationdate': '2015-04-02T04:30:33+00:00', 'author': 'Brian Tracy', 'producer': 'macOS Version 10.15.7 (Build 19H524) Quartz PDFContext, AppendMode 1.1', 'moddate': \"D:20210411094125Z00'00'\", 'title': 'No Excuses!: The Power of Self-Discipline'}, page_content='Remain Positive and Optimistic\\nThe key to sales success is to eliminate the fear of rejection, to become so confident and optimistic\\nthat you can call continually all day long and still remain positive and cheerful. As Winston Churchill\\nsaid, “Success is the ability to go from failure to failure with no loss of enthusiasm.”\\nThere is a direct relationship between the number of new customer contacts you make and your\\nlevel of sales. If you want to increase the number of sales, simply discipline yourself to call on\\nmore prospects.\\nWhen you increase your levels of sales activity, you also activate the Law of Probabilities to work\\non your behalf. You tap into the law of averages. You “work the numbers” to ensure success.'),\n",
       " Document(metadata={'subject': '', 'format': 'PDF 1.6', 'creationdate': '2015-04-02T04:30:33+00:00', 'keywords': '', 'producer': 'macOS Version 10.15.7 (Build 19H524) Quartz PDFContext, AppendMode 1.1', 'author': 'Brian Tracy', 'file_path': '../Data/the-power-of-discipline-PDFdrive.com.co.pdf', 'trapped': '', 'page': 39, 'title': 'No Excuses!: The Power of Self-Discipline', 'total_pages': 308, 'source': '../Data/the-power-of-discipline-PDFdrive.com.co.pdf', 'creationDate': \"D:20150402043033+00'00'\", 'moddate': \"D:20210411094125Z00'00'\", 'modDate': \"D:20210411094125Z00'00'\", 'creator': 'calibre 1.43.0 [http://calibre-ebook.com]'}, page_content='Success Is Its Own Reward\\nThe wonderful thing about the achievement of success is that every step in that direction is rewarding\\nin itself. Each step you take toward becoming a better person and accomplishing more than you ever\\nhave before makes you feel happier, more confident, and more fulfilled.\\nYou’ve heard it said that “nothing succeeds like success.” What this means is that the greatest\\nreward of success is not the money you make but rather the excellent person you become in the\\nprocess of striving toward success and exerting self-discipline every time it is required.\\nIn the next chapter, I will explain how you can become the truly excellent person you are capable\\nof becoming.\\nAction Exercises:\\n \\nTake out a pen right now and write down your answers to the questions below.\\n \\n1. If your work life and career were ideal, what would they look like? What one\\ndiscipline could you develop that would help you to achieve it?')]"
      ]
     },
     "execution_count": 19,
     "metadata": {},
     "output_type": "execute_result"
    }
   ],
   "source": [
    "retriever.invoke(\"How can we be success?\")"
   ]
  },
  {
   "cell_type": "code",
   "execution_count": 26,
   "id": "24971c62",
   "metadata": {},
   "outputs": [],
   "source": [
    "from langchain_community.tools.tavily_search import TavilySearchResults\n",
    "from dotenv import load_dotenv\n",
    "import pprint\n",
    "load_dotenv()\n",
    "tool=TavilySearchResults()"
   ]
  },
  {
   "cell_type": "code",
   "execution_count": null,
   "id": "9f39637a",
   "metadata": {},
   "outputs": [
    {
     "name": "stdout",
     "output_type": "stream",
     "text": [
      "[{'content': '**In 2 weeks**Tesla stock price forecast on Monday, June, 23: '\n",
      "             '283.20 dollars, maximum 305.86, minimum 260.54. Tesla stock '\n",
      "             'prediction on Tuesday, June, 24: 275.62 dollars, maximum 297.67, '\n",
      "             'minimum 253.57. Tesla stock price forecast on Wednesday, June, '\n",
      "             '25: 277.01 dollars, maximum 299.17, minimum 254.85. Tesla stock '\n",
      "             'prediction on Thursday, June, 26: 270.77 dollars, maximum '\n",
      "             '292.43, minimum 249.11. Tesla stock price forecast on Friday, '\n",
      "             'June, 27: 276.43 dollars, maximum 298.54, minimum 254.32. [...] '\n",
      "             'Tesla stock price forecast for **June 2025**. In the beginning '\n",
      "             'at 346.46. Maximum 355.40, minimum 244.68. The averaged price '\n",
      "             '304.87. At the end of the month 272.92 dollars, change for June '\n",
      "             '-21.2%.\\n'\n",
      "             '\\n'\n",
      "             'Tesla stock prediction for **July 2025**. In the beginning at '\n",
      "             '272.92. Maximum 365.62, minimum 232.18. The averaged price '\n",
      "             '280.77. At the end of the month 252.37 dollars, change for July '\n",
      "             '-7.5%. [...] **In 3 weeks**Tesla stock prediction on Monday, '\n",
      "             'June, 30: 272.92 dollars, maximum 294.75, minimum 251.09. Tesla '\n",
      "             'stock price forecast on Tuesday, July, 1: 283.80 dollars, '\n",
      "             'maximum 306.50, minimum 261.10. Tesla stock prediction on '\n",
      "             'Wednesday, July, 2: 297.65 dollars, maximum 321.46, minimum '\n",
      "             '273.84. Tesla stock price forecast on Thursday, July, 3: 312.53 '\n",
      "             'dollars, maximum 337.53, minimum 287.53. Tesla stock prediction '\n",
      "             'on Friday, July, 4: 327.28 dollars, maximum 353.46, minimum '\n",
      "             '301.10.',\n",
      "  'score': 0.9132521,\n",
      "  'title': 'TESLA STOCK PRICE FORECAST TOMORROW, WEEK, 2025 ...',\n",
      "  'url': 'https://30rates.com/tesla'},\n",
      " {'content': '[Gov Capital](https://gov.capital/stock/tsla-stock/) predicts '\n",
      "             'that the average price of TSLA shares will reach $296.00 by the '\n",
      "             'middle of 2025. In the second half of the year, the quotes are '\n",
      "             'expected to trade within the range of $275.59–$449.96, with an '\n",
      "             'average closing price of $341.83. [...] According to '\n",
      "             '[CoinCodex](https://coincodex.com/stock/TSLA/price-prediction/), '\n",
      "             'the average price of the asset may stabilize at $248.23 in June. '\n",
      "             'By the end of the year, experts anticipate the quotes to '\n",
      "             'steadily rise to $444.66–$499.73. [...] '\n",
      "             '[CoinCodex](https://coincodex.com/stock/TSLA/price-prediction/) '\n",
      "             \"predicts that Tesla's stock price may reach $450.08 at the start \"\n",
      "             'of 2026 but drop to $289.79 by mid-year. Negative momentum is '\n",
      "             'expected to continue in the second half, with an average price '\n",
      "             'of $174.23.\\n'\n",
      "             '\\n'\n",
      "             '**Month****Minimum, $****Average, $****Maximum, $**\\n'\n",
      "             'January 355.84 450.08 520.20\\n'\n",
      "             'June 259.37 289.79 316.06\\n'\n",
      "             'December 98.80 174.23 224.78',\n",
      "  'score': 0.8997663,\n",
      "  'title': 'Tesla (TSLA) Stock Forecast for 2025, 2026, 2027–2030 and Beyond',\n",
      "  'url': 'https://www.litefinance.org/blog/analysts-opinions/tesla-stock-price-prediction/'},\n",
      " {'content': 'As we move through 2025, analyst opinions on where Tesla could '\n",
      "             'be headed do vary. Overall, Tesla’s stock performance in 2025 is '\n",
      "             'expected to be shaped by production output, market trends and '\n",
      "             'advancements in EV and battery technology.Analysts project '\n",
      "             'a[17.5% revenue increase to $117.2 '\n",
      "             'billion](https://finance.yahoo.com/news/tesla-stock-buy-ahead-q4-135300704.html), '\n",
      "             'driven by growing demand and energy sector expansion. Tesla’s '\n",
      "             '2025 deliveries are forecasted at 1.95 million units by '\n",
      "             'Barclays, below [...] Tesla’s stock price outlook for 2025 '\n",
      "             'varies widely among analysts, reflecting uncertainties in '\n",
      "             'production, market conditions, and EV advancements. [Analyst '\n",
      "             'price targets](https://www.tipranks.com/stocks/tsla/forecast) '\n",
      "             'span a very wide range, with the most bearish analyst putting '\n",
      "             'forward a $19.05 price target, and the most bullish suggesting '\n",
      "             'this stock could head to $500 per share. [...] **1. Core EV '\n",
      "             'Business:**Tesla’s most important business line is '\n",
      "             'unsurprisingly the company’s auto business. With sales of the '\n",
      "             'company’s EVs down on a year-over-year basis, and margins also '\n",
      "             'declining from historically high levels following the onset of '\n",
      "             'the pandemic, investors will continue to assess the company’s '\n",
      "             'future prospects in proportion to how the company’s core revenue '\n",
      "             'and earnings driver is performing.',\n",
      "  'score': 0.8893851,\n",
      "  'title': \"Wall Street Price Prediction: Tesla's Share Price Forecast for \"\n",
      "           '2025',\n",
      "  'url': 'https://247wallst.com/investing/2025/06/03/wall-street-price-prediction-teslas-share-price-forecast-for-2025/'},\n",
      " {'content': 'Tesla Stock Prediction and Forecast [TSLA] Tesla price '\n",
      "             'prediction was made for Thursday, June 12, 2025 ▪️ Check the '\n",
      "             'most recent TSLA analysis',\n",
      "  'score': 0.84767824,\n",
      "  'title': 'TSLA Stock Analysis: Can Robotaxi Launch on June 22 ... - YouTube',\n",
      "  'url': 'https://www.youtube.com/watch?v=5ewhQMhmv6Q'},\n",
      " {'content': 'However, 24/7 Wall St.’s year-end price target for Tesla is '\n",
      "             '$352.99, which represents more than 6% upside potential. Our '\n",
      "             'forecast through the end of the decade is based on the company '\n",
      "             'seeing projected revenue growth climb from $112.091 billion in '\n",
      "             '2025 to $297.430 billion in 2030, alongside normalized EPS '\n",
      "             'growth of $1.91 in 2025 to $11.24 in 2030. [...] Wall Street’s '\n",
      "             'consensus 12-month price target for Tesla is $299.38 per share, '\n",
      "             'though that is 9.8% lower than the most recent closing price. Of '\n",
      "             '48 analysts that cover the stock, 23 recommend buying shares, '\n",
      "             'seven of them with Strong Buy ratings. [...] Coupled with '\n",
      "             'Tesla’s energy storage business, as well as its charging station '\n",
      "             'network, the company saw its revenues grow.\\n'\n",
      "             '\\n'\n",
      "             '**Fiscal Year****Price****Revenues****Net Income**\\n'\n",
      "             '2015$16.00$4.046B−$888.7M\\n'\n",
      "             '2016$14.25$7.000B−$674.9M\\n'\n",
      "             '2017$21.60$11.759B−$1.962B\\n'\n",
      "             '2018$21.18$21.461B−$976M\\n'\n",
      "             '2019$29.53$24.578B−$862M\\n'\n",
      "             '2020$235.23$31.536B$721M\\n'\n",
      "             '2021$352.26$53.823B$5.519B\\n'\n",
      "             '2022$123.18$81.462B$12.556B\\n'\n",
      "             '2023$248.48$96.773B$14.997B\\n'\n",
      "             '2024$403.84$97.690B$7.13B',\n",
      "  'score': 0.8458536,\n",
      "  'title': 'Tesla (NASDAQ: TSLA) Stock Price Prediction and Forecast 2025 ...',\n",
      "  'url': 'https://247wallst.com/forecasts/2025/06/05/tesla-tsla-price-prediction-and-forecast/'}]\n",
      "**In 2 weeks**Tesla stock price forecast on Monday, June, 23: 283.20 dollars, maximum 305.86, minimum 260.54. Tesla stock prediction on Tuesday, June, 24: 275.62 dollars, maximum 297.67, minimum 253.57. Tesla stock price forecast on Wednesday, June, 25: 277.01 dollars, maximum 299.17, minimum 254.85. Tesla stock prediction on Thursday, June, 26: 270.77 dollars, maximum 292.43, minimum 249.11. Tesla stock price forecast on Friday, June, 27: 276.43 dollars, maximum 298.54, minimum 254.32. [...] Tesla stock price forecast for **June 2025**. In the beginning at 346.46. Maximum 355.40, minimum 244.68. The averaged price 304.87. At the end of the month 272.92 dollars, change for June -21.2%.\n",
      "\n",
      "Tesla stock prediction for **July 2025**. In the beginning at 272.92. Maximum 365.62, minimum 232.18. The averaged price 280.77. At the end of the month 252.37 dollars, change for July -7.5%. [...] **In 3 weeks**Tesla stock prediction on Monday, June, 30: 272.92 dollars, maximum 294.75, minimum 251.09. Tesla stock price forecast on Tuesday, July, 1: 283.80 dollars, maximum 306.50, minimum 261.10. Tesla stock prediction on Wednesday, July, 2: 297.65 dollars, maximum 321.46, minimum 273.84. Tesla stock price forecast on Thursday, July, 3: 312.53 dollars, maximum 337.53, minimum 287.53. Tesla stock prediction on Friday, July, 4: 327.28 dollars, maximum 353.46, minimum 301.10.\n",
      "[Gov Capital](https://gov.capital/stock/tsla-stock/) predicts that the average price of TSLA shares will reach $296.00 by the middle of 2025. In the second half of the year, the quotes are expected to trade within the range of $275.59–$449.96, with an average closing price of $341.83. [...] According to [CoinCodex](https://coincodex.com/stock/TSLA/price-prediction/), the average price of the asset may stabilize at $248.23 in June. By the end of the year, experts anticipate the quotes to steadily rise to $444.66–$499.73. [...] [CoinCodex](https://coincodex.com/stock/TSLA/price-prediction/) predicts that Tesla's stock price may reach $450.08 at the start of 2026 but drop to $289.79 by mid-year. Negative momentum is expected to continue in the second half, with an average price of $174.23.\n",
      "\n",
      "**Month****Minimum, $****Average, $****Maximum, $**\n",
      "January 355.84 450.08 520.20\n",
      "June 259.37 289.79 316.06\n",
      "December 98.80 174.23 224.78\n",
      "As we move through 2025, analyst opinions on where Tesla could be headed do vary. Overall, Tesla’s stock performance in 2025 is expected to be shaped by production output, market trends and advancements in EV and battery technology.Analysts project a[17.5% revenue increase to $117.2 billion](https://finance.yahoo.com/news/tesla-stock-buy-ahead-q4-135300704.html), driven by growing demand and energy sector expansion. Tesla’s 2025 deliveries are forecasted at 1.95 million units by Barclays, below [...] Tesla’s stock price outlook for 2025 varies widely among analysts, reflecting uncertainties in production, market conditions, and EV advancements. [Analyst price targets](https://www.tipranks.com/stocks/tsla/forecast) span a very wide range, with the most bearish analyst putting forward a $19.05 price target, and the most bullish suggesting this stock could head to $500 per share. [...] **1. Core EV Business:**Tesla’s most important business line is unsurprisingly the company’s auto business. With sales of the company’s EVs down on a year-over-year basis, and margins also declining from historically high levels following the onset of the pandemic, investors will continue to assess the company’s future prospects in proportion to how the company’s core revenue and earnings driver is performing.\n",
      "Tesla Stock Prediction and Forecast [TSLA] Tesla price prediction was made for Thursday, June 12, 2025 ▪️ Check the most recent TSLA analysis\n",
      "However, 24/7 Wall St.’s year-end price target for Tesla is $352.99, which represents more than 6% upside potential. Our forecast through the end of the decade is based on the company seeing projected revenue growth climb from $112.091 billion in 2025 to $297.430 billion in 2030, alongside normalized EPS growth of $1.91 in 2025 to $11.24 in 2030. [...] Wall Street’s consensus 12-month price target for Tesla is $299.38 per share, though that is 9.8% lower than the most recent closing price. Of 48 analysts that cover the stock, 23 recommend buying shares, seven of them with Strong Buy ratings. [...] Coupled with Tesla’s energy storage business, as well as its charging station network, the company saw its revenues grow.\n",
      "\n",
      "**Fiscal Year****Price****Revenues****Net Income**\n",
      "2015$16.00$4.046B−$888.7M\n",
      "2016$14.25$7.000B−$674.9M\n",
      "2017$21.60$11.759B−$1.962B\n",
      "2018$21.18$21.461B−$976M\n",
      "2019$29.53$24.578B−$862M\n",
      "2020$235.23$31.536B$721M\n",
      "2021$352.26$53.823B$5.519B\n",
      "2022$123.18$81.462B$12.556B\n",
      "2023$248.48$96.773B$14.997B\n",
      "2024$403.84$97.690B$7.13B\n"
     ]
    }
   ],
   "source": [
    "docs = tool.invoke({\"query\": \"What is the prediction of tesla stock on june 22 2025?\"})\n",
    "for doc in docs:\n",
    "    print(doc['content'])"
   ]
  },
  {
   "cell_type": "code",
   "execution_count": 33,
   "id": "cacfca5b",
   "metadata": {},
   "outputs": [],
   "source": [
    "#print(len(docs))\n",
    "#print(docs[2]['content'])\n",
    "\n",
    "doc_string = [docs[i]['content'] for i in range(len(docs))]\n"
   ]
  },
  {
   "cell_type": "code",
   "execution_count": 34,
   "id": "3dd38df4",
   "metadata": {},
   "outputs": [
    {
     "data": {
      "text/plain": [
       "['**In 2 weeks**Tesla stock price forecast on Monday, June, 23: 283.20 dollars, maximum 305.86, minimum 260.54. Tesla stock prediction on Tuesday, June, 24: 275.62 dollars, maximum 297.67, minimum 253.57. Tesla stock price forecast on Wednesday, June, 25: 277.01 dollars, maximum 299.17, minimum 254.85. Tesla stock prediction on Thursday, June, 26: 270.77 dollars, maximum 292.43, minimum 249.11. Tesla stock price forecast on Friday, June, 27: 276.43 dollars, maximum 298.54, minimum 254.32. [...] Tesla stock price forecast for **June 2025**. In the beginning at 346.46. Maximum 355.40, minimum 244.68. The averaged price 304.87. At the end of the month 272.92 dollars, change for June -21.2%.\\n\\nTesla stock prediction for **July 2025**. In the beginning at 272.92. Maximum 365.62, minimum 232.18. The averaged price 280.77. At the end of the month 252.37 dollars, change for July -7.5%. [...] **In 3 weeks**Tesla stock prediction on Monday, June, 30: 272.92 dollars, maximum 294.75, minimum 251.09. Tesla stock price forecast on Tuesday, July, 1: 283.80 dollars, maximum 306.50, minimum 261.10. Tesla stock prediction on Wednesday, July, 2: 297.65 dollars, maximum 321.46, minimum 273.84. Tesla stock price forecast on Thursday, July, 3: 312.53 dollars, maximum 337.53, minimum 287.53. Tesla stock prediction on Friday, July, 4: 327.28 dollars, maximum 353.46, minimum 301.10.',\n",
       " \"[Gov Capital](https://gov.capital/stock/tsla-stock/) predicts that the average price of TSLA shares will reach $296.00 by the middle of 2025. In the second half of the year, the quotes are expected to trade within the range of $275.59–$449.96, with an average closing price of $341.83. [...] According to [CoinCodex](https://coincodex.com/stock/TSLA/price-prediction/), the average price of the asset may stabilize at $248.23 in June. By the end of the year, experts anticipate the quotes to steadily rise to $444.66–$499.73. [...] [CoinCodex](https://coincodex.com/stock/TSLA/price-prediction/) predicts that Tesla's stock price may reach $450.08 at the start of 2026 but drop to $289.79 by mid-year. Negative momentum is expected to continue in the second half, with an average price of $174.23.\\n\\n**Month****Minimum, $****Average, $****Maximum, $**\\nJanuary 355.84 450.08 520.20\\nJune 259.37 289.79 316.06\\nDecember 98.80 174.23 224.78\",\n",
       " 'As we move through 2025, analyst opinions on where Tesla could be headed do vary. Overall, Tesla’s stock performance in 2025 is expected to be shaped by production output, market trends and advancements in EV and battery technology.Analysts project a[17.5% revenue increase to $117.2 billion](https://finance.yahoo.com/news/tesla-stock-buy-ahead-q4-135300704.html), driven by growing demand and energy sector expansion. Tesla’s 2025 deliveries are forecasted at 1.95 million units by Barclays, below [...] Tesla’s stock price outlook for 2025 varies widely among analysts, reflecting uncertainties in production, market conditions, and EV advancements. [Analyst price targets](https://www.tipranks.com/stocks/tsla/forecast) span a very wide range, with the most bearish analyst putting forward a $19.05 price target, and the most bullish suggesting this stock could head to $500 per share. [...] **1. Core EV Business:**Tesla’s most important business line is unsurprisingly the company’s auto business. With sales of the company’s EVs down on a year-over-year basis, and margins also declining from historically high levels following the onset of the pandemic, investors will continue to assess the company’s future prospects in proportion to how the company’s core revenue and earnings driver is performing.',\n",
       " 'Tesla Stock Prediction and Forecast [TSLA] Tesla price prediction was made for Thursday, June 12, 2025 ▪️ Check the most recent TSLA analysis',\n",
       " 'However, 24/7 Wall St.’s year-end price target for Tesla is $352.99, which represents more than 6% upside potential. Our forecast through the end of the decade is based on the company seeing projected revenue growth climb from $112.091 billion in 2025 to $297.430 billion in 2030, alongside normalized EPS growth of $1.91 in 2025 to $11.24 in 2030. [...] Wall Street’s consensus 12-month price target for Tesla is $299.38 per share, though that is 9.8% lower than the most recent closing price. Of 48 analysts that cover the stock, 23 recommend buying shares, seven of them with Strong Buy ratings. [...] Coupled with Tesla’s energy storage business, as well as its charging station network, the company saw its revenues grow.\\n\\n**Fiscal Year****Price****Revenues****Net Income**\\n2015$16.00$4.046B−$888.7M\\n2016$14.25$7.000B−$674.9M\\n2017$21.60$11.759B−$1.962B\\n2018$21.18$21.461B−$976M\\n2019$29.53$24.578B−$862M\\n2020$235.23$31.536B$721M\\n2021$352.26$53.823B$5.519B\\n2022$123.18$81.462B$12.556B\\n2023$248.48$96.773B$14.997B\\n2024$403.84$97.690B$7.13B']"
      ]
     },
     "execution_count": 34,
     "metadata": {},
     "output_type": "execute_result"
    }
   ],
   "source": [
    "doc_string"
   ]
  },
  {
   "cell_type": "code",
   "execution_count": 39,
   "id": "f72e3d2d",
   "metadata": {},
   "outputs": [],
   "source": [
    "from langchain_core.documents import Document\n",
    "\n",
    "documents_for_chroma = [\n",
    "    Document(page_content=d['content'])\n",
    "    for d in docs\n",
    "]\n",
    "\n",
    "\n",
    "db2 = Chroma.from_documents(documents_for_chroma,embeddings)"
   ]
  },
  {
   "cell_type": "code",
   "execution_count": 140,
   "id": "8dd283c8",
   "metadata": {},
   "outputs": [
    {
     "data": {
      "text/plain": [
       "[Document(metadata={}, page_content='**In 2 weeks**Tesla stock price forecast on Monday, June, 23: 283.20 dollars, maximum 305.86, minimum 260.54. Tesla stock prediction on Tuesday, June, 24: 275.62 dollars, maximum 297.67, minimum 253.57. Tesla stock price forecast on Wednesday, June, 25: 277.01 dollars, maximum 299.17, minimum 254.85. Tesla stock prediction on Thursday, June, 26: 270.77 dollars, maximum 292.43, minimum 249.11. Tesla stock price forecast on Friday, June, 27: 276.43 dollars, maximum 298.54, minimum 254.32. [...] Tesla stock price forecast for **June 2025**. In the beginning at 346.46. Maximum 355.40, minimum 244.68. The averaged price 304.87. At the end of the month 272.92 dollars, change for June -21.2%.\\n\\nTesla stock prediction for **July 2025**. In the beginning at 272.92. Maximum 365.62, minimum 232.18. The averaged price 280.77. At the end of the month 252.37 dollars, change for July -7.5%. [...] **In 3 weeks**Tesla stock prediction on Monday, June, 30: 272.92 dollars, maximum 294.75, minimum 251.09. Tesla stock price forecast on Tuesday, July, 1: 283.80 dollars, maximum 306.50, minimum 261.10. Tesla stock prediction on Wednesday, July, 2: 297.65 dollars, maximum 321.46, minimum 273.84. Tesla stock price forecast on Thursday, July, 3: 312.53 dollars, maximum 337.53, minimum 287.53. Tesla stock prediction on Friday, July, 4: 327.28 dollars, maximum 353.46, minimum 301.10.'),\n",
       " Document(metadata={}, page_content='However, 24/7 Wall St.’s year-end price target for Tesla is $352.99, which represents more than 6% upside potential. Our forecast through the end of the decade is based on the company seeing projected revenue growth climb from $112.091 billion in 2025 to $297.430 billion in 2030, alongside normalized EPS growth of $1.91 in 2025 to $11.24 in 2030. [...] Wall Street’s consensus 12-month price target for Tesla is $299.38 per share, though that is 9.8% lower than the most recent closing price. Of 48 analysts that cover the stock, 23 recommend buying shares, seven of them with Strong Buy ratings. [...] Coupled with Tesla’s energy storage business, as well as its charging station network, the company saw its revenues grow.\\n\\n**Fiscal Year****Price****Revenues****Net Income**\\n2015$16.00$4.046B−$888.7M\\n2016$14.25$7.000B−$674.9M\\n2017$21.60$11.759B−$1.962B\\n2018$21.18$21.461B−$976M\\n2019$29.53$24.578B−$862M\\n2020$235.23$31.536B$721M\\n2021$352.26$53.823B$5.519B\\n2022$123.18$81.462B$12.556B\\n2023$248.48$96.773B$14.997B\\n2024$403.84$97.690B$7.13B'),\n",
       " Document(metadata={}, page_content=\"[Gov Capital](https://gov.capital/stock/tsla-stock/) predicts that the average price of TSLA shares will reach $296.00 by the middle of 2025. In the second half of the year, the quotes are expected to trade within the range of $275.59–$449.96, with an average closing price of $341.83. [...] According to [CoinCodex](https://coincodex.com/stock/TSLA/price-prediction/), the average price of the asset may stabilize at $248.23 in June. By the end of the year, experts anticipate the quotes to steadily rise to $444.66–$499.73. [...] [CoinCodex](https://coincodex.com/stock/TSLA/price-prediction/) predicts that Tesla's stock price may reach $450.08 at the start of 2026 but drop to $289.79 by mid-year. Negative momentum is expected to continue in the second half, with an average price of $174.23.\\n\\n**Month****Minimum, $****Average, $****Maximum, $**\\nJanuary 355.84 450.08 520.20\\nJune 259.37 289.79 316.06\\nDecember 98.80 174.23 224.78\"),\n",
       " Document(metadata={}, page_content='Tesla Stock Prediction and Forecast [TSLA] Tesla price prediction was made for Thursday, June 12, 2025 ▪️ Check the most recent TSLA analysis')]"
      ]
     },
     "execution_count": 140,
     "metadata": {},
     "output_type": "execute_result"
    }
   ],
   "source": [
    "retriever2 = db2.as_retriever(search_kwargs={\"k\": 4})\n",
    "retriever2.invoke(\"wheter to sell or hold tesla stock price?\")"
   ]
  },
  {
   "cell_type": "code",
   "execution_count": 141,
   "id": "6eac84e7",
   "metadata": {},
   "outputs": [],
   "source": [
    "import operator\n",
    "from typing import List\n",
    "from pydantic import BaseModel, Field\n",
    "from langchain.prompts import PromptTemplate\n",
    "from typing import TypedDict, Annotated, Sequence\n",
    "from langchain_core.messages import BaseMessage\n",
    "from langchain_core.output_parsers import StrOutputParser\n",
    "from langchain_core.prompts import ChatPromptTemplate, PromptTemplate\n",
    "from langchain_core.runnables import RunnablePassthrough\n",
    "from langchain_core.messages import HumanMessage, AIMessage\n",
    "from langgraph.graph import StateGraph,END\n"
   ]
  },
  {
   "cell_type": "code",
   "execution_count": 142,
   "id": "44af5f92",
   "metadata": {},
   "outputs": [],
   "source": [
    "class TopicValidationParser(BaseModel):\n",
    "    Topic:str=Field(description=\"selected topic\")\n",
    "    Validate:str=Field(description='Validate the topic')"
   ]
  },
  {
   "cell_type": "code",
   "execution_count": 143,
   "id": "e322348a",
   "metadata": {},
   "outputs": [],
   "source": [
    "from langchain.output_parsers import PydanticOutputParser"
   ]
  },
  {
   "cell_type": "code",
   "execution_count": 144,
   "id": "83bcfb3f",
   "metadata": {},
   "outputs": [],
   "source": [
    "parser = PydanticOutputParser(pydantic_object=TopicValidationParser)"
   ]
  },
  {
   "cell_type": "code",
   "execution_count": 145,
   "id": "c0938d17",
   "metadata": {},
   "outputs": [
    {
     "data": {
      "text/plain": [
       "'The output should be formatted as a JSON instance that conforms to the JSON schema below.\\n\\nAs an example, for the schema {\"properties\": {\"foo\": {\"title\": \"Foo\", \"description\": \"a list of strings\", \"type\": \"array\", \"items\": {\"type\": \"string\"}}}, \"required\": [\"foo\"]}\\nthe object {\"foo\": [\"bar\", \"baz\"]} is a well-formatted instance of the schema. The object {\"properties\": {\"foo\": [\"bar\", \"baz\"]}} is not well-formatted.\\n\\nHere is the output schema:\\n```\\n{\"properties\": {\"Topic\": {\"description\": \"selected topic\", \"title\": \"Topic\", \"type\": \"string\"}, \"Validate\": {\"description\": \"Validate the topic\", \"title\": \"Validate\", \"type\": \"string\"}}, \"required\": [\"Topic\", \"Validate\"]}\\n```'"
      ]
     },
     "execution_count": 145,
     "metadata": {},
     "output_type": "execute_result"
    }
   ],
   "source": [
    "parser.get_format_instructions()"
   ]
  },
  {
   "cell_type": "code",
   "execution_count": 146,
   "id": "6f339ca4",
   "metadata": {},
   "outputs": [],
   "source": [
    "class AgentState(TypedDict):\n",
    "    messages: Annotated[Sequence[BaseMessage], operator.add]\n",
    "    validation_result: str"
   ]
  },
  {
   "cell_type": "code",
   "execution_count": 147,
   "id": "a8a44bd8",
   "metadata": {},
   "outputs": [],
   "source": [
    "def function_1(state:AgentState):\n",
    "    \n",
    "    question=state[\"messages\"][-1]\n",
    "    \n",
    "    print(\"Question\",question)\n",
    "    \n",
    "    template=\"\"\"\n",
    "    Your task is to classify the given user query into one of the following categories: [power of discipline, current information, Not Related]. \n",
    "    Only respond with the category name and nothing else.\n",
    "\n",
    "    User query: {question}\n",
    "    {format_instructions}\n",
    "    \"\"\"\n",
    "    \n",
    "    prompt= PromptTemplate(\n",
    "        template=template,\n",
    "        input_variable=[\"question\"],\n",
    "        partial_variables={\"format_instructions\": parser.get_format_instructions()}\n",
    "    )\n",
    "    \n",
    "    \n",
    "    chain= prompt | model | parser\n",
    "    \n",
    "    response = chain.invoke({\"question\":question})\n",
    "    \n",
    "    print(\"Parsed response:\", response)\n",
    "    \n",
    "    return {\"messages\": [response.Topic]}"
   ]
  },
  {
   "cell_type": "code",
   "execution_count": 148,
   "id": "41cc3ee5",
   "metadata": {},
   "outputs": [],
   "source": [
    "state={\"messages\":[\"Hi\"]}"
   ]
  },
  {
   "cell_type": "code",
   "execution_count": 149,
   "id": "091c49c6",
   "metadata": {},
   "outputs": [
    {
     "name": "stdout",
     "output_type": "stream",
     "text": [
      "Question Hi\n",
      "Parsed response: Topic='Not Related' Validate='Not Related'\n"
     ]
    },
    {
     "data": {
      "text/plain": [
       "{'messages': ['Not Related']}"
      ]
     },
     "execution_count": 149,
     "metadata": {},
     "output_type": "execute_result"
    }
   ],
   "source": [
    "function_1(state)"
   ]
  },
  {
   "cell_type": "code",
   "execution_count": 150,
   "id": "306cf36a",
   "metadata": {},
   "outputs": [],
   "source": [
    "def router(state:AgentState):\n",
    "    print(\"<--> ROUTER <-->\")\n",
    "\n",
    "    last_message = state[\"messages\"][-1]\n",
    "    print(\"last_message:\", last_message)\n",
    "\n",
    "    if \"discipline\" in last_message.lower():\n",
    "        return \"RAG Call\"\n",
    "    elif \"current information\" in last_message.lower():\n",
    "        return \"WEB Call\"\n",
    "    else:\n",
    "        return \"LLM Call\""
   ]
  },
  {
   "cell_type": "code",
   "execution_count": 151,
   "id": "196ba79e",
   "metadata": {},
   "outputs": [],
   "source": [
    "def format_docs(docs):\n",
    "    return \"\\n\\n\".join(doc.page_content for doc in docs)"
   ]
  },
  {
   "cell_type": "code",
   "execution_count": 152,
   "id": "7a4d55ed",
   "metadata": {},
   "outputs": [],
   "source": [
    "# RAG Function\n",
    "def function_2(state:AgentState):\n",
    "    print(\"-> RAG Call ->\")\n",
    "    \n",
    "    question = state[\"messages\"][0]\n",
    "    \n",
    "    prompt=PromptTemplate(\n",
    "        template=\"\"\"You are an assistant for question-answering tasks. Use the following pieces of retrieved context to answer the question. If you don't know the answer, just say that you don't know. Use three sentences maximum and keep the answer concise.\\nQuestion: {question} \\nContext: {context} \\nAnswer:\"\"\",\n",
    "        \n",
    "        input_variables=['context', 'question']\n",
    "    )\n",
    "    \n",
    "    rag_chain = (\n",
    "        {\"context\": retriever | format_docs, \"question\": RunnablePassthrough()}\n",
    "        | prompt\n",
    "        | model\n",
    "        | StrOutputParser()\n",
    "    )\n",
    "    result = rag_chain.invoke(question)\n",
    "    return  {\"messages\": [result]}"
   ]
  },
  {
   "cell_type": "code",
   "execution_count": 165,
   "id": "1c5064c9",
   "metadata": {},
   "outputs": [],
   "source": [
    "# WEB Function\n",
    "def function_3(state:AgentState):\n",
    "    print(\"-> WEB Call ->\")\n",
    "    \n",
    "    question = state[\"messages\"][0]\n",
    "\n",
    "    docs = tool.invoke({\"query\": question})\n",
    "\n",
    "    documents_for_chroma = [\n",
    "        Document(page_content=d['content'])\n",
    "        for d in docs\n",
    "    ]\n",
    "\n",
    "    db2 = Chroma.from_documents(documents_for_chroma,embeddings)\n",
    "\n",
    "    retriever2 = db2.as_retriever(search_kwargs={\"k\": 4})\n",
    "    \n",
    "    prompt=PromptTemplate(\n",
    "        template=\"\"\"You are an assistant for question-answering tasks. Use the information from websites and answer the question. If you can't find the answer, just say that you don't know. Use three sentences maximum and keep the answer concise.\\nQuestion: {question} \\nContext: {context} \\nAnswer:\"\"\",\n",
    "        \n",
    "        input_variables=['context', 'question']\n",
    "    )\n",
    "    \n",
    "    web_chain = (\n",
    "        {\"context\": retriever2 | format_docs, \"question\": RunnablePassthrough()}\n",
    "        | prompt\n",
    "        | model\n",
    "        | StrOutputParser()\n",
    "    )\n",
    "    result = web_chain.invoke(question)\n",
    "    return  {\"messages\": [result]}"
   ]
  },
  {
   "cell_type": "code",
   "execution_count": 166,
   "id": "b2847b51",
   "metadata": {},
   "outputs": [],
   "source": [
    "# LLM Function\n",
    "def function_4(state:AgentState):\n",
    "    print(\"-> LLM Call ->\")\n",
    "    question = state[\"messages\"][0]\n",
    "    \n",
    "    # Normal LLM call\n",
    "    complete_query = \"Anwer the follow question with you knowledge of the real world. Following is the user question: \" + question\n",
    "    response = model.invoke(complete_query)\n",
    "    return {\"messages\": [response.content]}"
   ]
  },
  {
   "cell_type": "code",
   "execution_count": 167,
   "id": "72e7739d",
   "metadata": {},
   "outputs": [],
   "source": [
    "def validate_answer(state: AgentState):\n",
    "    print(\"---Validating Answer---\")\n",
    "    message = state[\"messages\"]\n",
    "\n",
    "    # LLM-as-a-Judge validation\n",
    "    validation_prompt = ChatPromptTemplate.from_messages([\n",
    "        (\"system\", \"\"\"You are an AI judge evaluating the accuracy of a generated answer.\n",
    "        Evaluate the 'Generated Answer' based on the 'Original Question' and the 'Provided Documents'.\n",
    "        \n",
    "        Criteria:\n",
    "        1. Factual Accuracy: Is the generated answer factually correct based *only* on the provided documents?\n",
    "        2. Relevance: Is the generated answer relevant to the original question?\n",
    "        3. No Hallucinations: Does the generated answer introduce information not present in the documents?\n",
    "\n",
    "        Output your evaluation in JSON format with two keys:\n",
    "        - \"status\": \"Valid\", \"Invalid\", or \"Needs_Human_Review\"\n",
    "        - \"critique\": A brief explanation if \"Invalid\" or \"Valid\".\n",
    "        \"\"\"),\n",
    "        (\"human\", \"\"\"\n",
    "        Generated Answer: {message}\n",
    "        \"\"\")\n",
    "    ])\n",
    "\n",
    "    validation_chain = validation_prompt | model | StrOutputParser()\n",
    "    \n",
    "    # Try to parse JSON output from the judge LLM\n",
    "    try:\n",
    "        raw_validation_output = validation_chain.invoke({\"message\": message})\n",
    "        # Attempt to parse as JSON. LLMs can sometimes mess this up.\n",
    "        import json\n",
    "        validation_output = json.loads(raw_validation_output)\n",
    "        status = validation_output.get(\"status\", \"Needs_Human_Review\")\n",
    "    except Exception as e:\n",
    "        status = \"Invalid\"\n",
    "\n",
    "    print(f\"Validation Status: {status}\")\n",
    "    \n",
    "    return {\"validation_result\": status}\n"
   ]
  },
  {
   "cell_type": "code",
   "execution_count": 168,
   "id": "d8fa1939",
   "metadata": {},
   "outputs": [],
   "source": [
    "def route_after_validation(state:AgentState):\n",
    "    status = state[\"validation_result\"][-1]\n",
    "\n",
    "    if status == \"Invalid\":\n",
    "        return \"Supervisor\"\n",
    "    else:\n",
    "        return \"end_process\""
   ]
  },
  {
   "cell_type": "code",
   "execution_count": 169,
   "id": "a1248806",
   "metadata": {},
   "outputs": [
    {
     "data": {
      "text/plain": [
       "<langgraph.graph.state.StateGraph at 0x31b330a40>"
      ]
     },
     "execution_count": 169,
     "metadata": {},
     "output_type": "execute_result"
    }
   ],
   "source": [
    "workflow = StateGraph(AgentState)\n",
    "workflow.add_node(\"Supervisor\",function_1)\n",
    "workflow.add_node(\"RAG\",function_2)\n",
    "workflow.add_node(\"WEB\",function_3)\n",
    "workflow.add_node(\"LLM\",function_4)\n",
    "workflow.add_node(\"Validation\",validate_answer)"
   ]
  },
  {
   "cell_type": "code",
   "execution_count": 170,
   "id": "b4573140",
   "metadata": {},
   "outputs": [
    {
     "data": {
      "text/plain": [
       "<langgraph.graph.state.StateGraph at 0x31b330a40>"
      ]
     },
     "execution_count": 170,
     "metadata": {},
     "output_type": "execute_result"
    }
   ],
   "source": [
    "workflow.set_entry_point(\"Supervisor\")"
   ]
  },
  {
   "cell_type": "code",
   "execution_count": 171,
   "id": "f4daa15e",
   "metadata": {},
   "outputs": [
    {
     "data": {
      "text/plain": [
       "<langgraph.graph.state.StateGraph at 0x31b330a40>"
      ]
     },
     "execution_count": 171,
     "metadata": {},
     "output_type": "execute_result"
    }
   ],
   "source": [
    "workflow.add_conditional_edges(\n",
    "    \"Supervisor\",\n",
    "    router,\n",
    "    {\n",
    "        \"RAG Call\": \"RAG\",\n",
    "        \"WEB Call\": \"WEB\",\n",
    "        \"LLM Call\": \"LLM\",\n",
    "    }\n",
    ")"
   ]
  },
  {
   "cell_type": "code",
   "execution_count": 172,
   "id": "da7cd291",
   "metadata": {},
   "outputs": [
    {
     "data": {
      "text/plain": [
       "<langgraph.graph.state.StateGraph at 0x31b330a40>"
      ]
     },
     "execution_count": 172,
     "metadata": {},
     "output_type": "execute_result"
    }
   ],
   "source": [
    "workflow.add_edge(\"RAG\",\"Validation\")\n",
    "workflow.add_edge(\"WEB\",\"Validation\")\n",
    "workflow.add_edge(\"LLM\",\"Validation\")"
   ]
  },
  {
   "cell_type": "code",
   "execution_count": 173,
   "id": "9a39fa78",
   "metadata": {},
   "outputs": [
    {
     "data": {
      "text/plain": [
       "<langgraph.graph.state.StateGraph at 0x31b330a40>"
      ]
     },
     "execution_count": 173,
     "metadata": {},
     "output_type": "execute_result"
    }
   ],
   "source": [
    "workflow.add_conditional_edges(\n",
    "    \"Validation\",\n",
    "    route_after_validation,\n",
    "    {\n",
    "        \"end_process\": END, # Successfully ended or error\n",
    "        \"Supervisor\": \"Supervisor\", # Go back to supervisor for decision (retry loop)\n",
    "    }\n",
    ")"
   ]
  },
  {
   "cell_type": "code",
   "execution_count": 174,
   "id": "28ecca1e",
   "metadata": {},
   "outputs": [],
   "source": [
    "app=workflow.compile()"
   ]
  },
  {
   "cell_type": "code",
   "execution_count": 175,
   "id": "465fa8df",
   "metadata": {},
   "outputs": [],
   "source": [
    "state={\"messages\":[\"Who is prime mininster of India?\"]}"
   ]
  },
  {
   "cell_type": "code",
   "execution_count": 176,
   "id": "db5430b7",
   "metadata": {},
   "outputs": [
    {
     "name": "stdout",
     "output_type": "stream",
     "text": [
      "Question Who is prime mininster of India?\n",
      "Parsed response: Topic='current information' Validate='current information'\n",
      "<--> ROUTER <-->\n",
      "last_message: current information\n",
      "-> WEB Call ->\n",
      "---Validating Answer---\n",
      "Validation Status: Invalid\n"
     ]
    },
    {
     "data": {
      "text/plain": [
       "{'messages': ['Who is prime mininster of India?',\n",
       "  'current information',\n",
       "  'Narendra Modi is the current prime minister of India.  He assumed office on May 26, 2014.  This information is confirmed by multiple sources, including the official website of the Prime Minister of India and Wikipedia.'],\n",
       " 'validation_result': 'Invalid'}"
      ]
     },
     "execution_count": 176,
     "metadata": {},
     "output_type": "execute_result"
    }
   ],
   "source": [
    "app.invoke(state)\n"
   ]
  }
 ],
 "metadata": {
  "kernelspec": {
   "display_name": "myvenv",
   "language": "python",
   "name": "python3"
  },
  "language_info": {
   "codemirror_mode": {
    "name": "ipython",
    "version": 3
   },
   "file_extension": ".py",
   "mimetype": "text/x-python",
   "name": "python",
   "nbconvert_exporter": "python",
   "pygments_lexer": "ipython3",
   "version": "3.12.0"
  }
 },
 "nbformat": 4,
 "nbformat_minor": 5
}
